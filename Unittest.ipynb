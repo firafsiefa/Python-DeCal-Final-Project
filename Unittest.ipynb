{
 "cells": [
  {
   "cell_type": "code",
   "execution_count": null,
   "metadata": {},
   "outputs": [
    {
     "name": "stdout",
     "output_type": "stream",
     "text": [
      "Welcome to Mastermind! Please enter your code!\n",
      "1234\n",
      "Wrong characters\n",
      "['Red', 'Red', 'White', 'White']\n",
      "Wrong code! You have: 9 attempts left!\n",
      "5678\n",
      "Wrong characters\n",
      "['Empty', 'Empty', 'Empty', 'Empty']\n",
      "Wrong code! You have: 8 attempts left!\n"
     ]
    }
   ],
   "source": [
    "import unittest\n",
    "import mastermind\n",
    "\n",
    "class TestMastermind(unittest.TestCase):\n",
    "        \n",
    "    def test_wrong_code_length(self):\n",
    "        self.assertFalse(mastermind.wrong_code_length(['1','2','3','4']))\n",
    "        self.assertTrue(mastermind.wrong_code_length(['1','2','3','4','5']))\n",
    "        \n",
    "    def test_wrong_characters(self):\n",
    "        self.assertFalse(mastermind.wrong_characters(['1','2','3','4']))\n",
    "        self.assertTrue(mastermind.wrong_characters(['5','6','7','8']))\n",
    "        \n",
    "    def test_get_key_pegs(self):\n",
    "        numbers_check = mastermind.check_numbers([1,3,4,2])\n",
    "        order_check = mastermind.check_order([1,3,4,2])\n",
    "        self.assertEqual(4, len(mastermind.get_key_pegs(numbers_check, order_check))"
   ]
  },
  {
   "cell_type": "code",
   "execution_count": null,
   "metadata": {},
   "outputs": [],
   "source": []
  }
 ],
 "metadata": {
  "kernelspec": {
   "display_name": "Python 3",
   "language": "python",
   "name": "python3"
  },
  "language_info": {
   "codemirror_mode": {
    "name": "ipython",
    "version": 3
   },
   "file_extension": ".py",
   "mimetype": "text/x-python",
   "name": "python",
   "nbconvert_exporter": "python",
   "pygments_lexer": "ipython3",
   "version": "3.7.4"
  }
 },
 "nbformat": 4,
 "nbformat_minor": 2
}
